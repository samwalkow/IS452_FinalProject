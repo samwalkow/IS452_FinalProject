{
 "cells": [
  {
   "cell_type": "markdown",
   "metadata": {},
   "source": [
    " ## Project Title"
   ]
  },
  {
   "cell_type": "markdown",
   "metadata": {},
   "source": [
    "Project Summary"
   ]
  },
  {
   "cell_type": "markdown",
   "metadata": {},
   "source": [
    "Questions:\n",
    "- What domains will I focus on and how many?\n",
    "    - so far, three: Climate + Weather, Oceanography, Earthquakes\n",
    "- What format is the secondary data coming in as?\n",
    "    - so far, csv, xml, geojson\n",
    "- What do can read this file type?\n",
    "    - base python, still working on this\n",
    "- What will the data look like? Dim, dtype, size, NAs, columns\n",
    "    - most likely, numbers, dates, descriptions\n",
    "- What do I need to do to change it?\n",
    "    - Additional libraries? Changing dtypes? Re-shaping? Calculations? Identifying useful columns?\n",
    "- What is the finished product? \n",
    "- What can I do with the finished product?\n",
    "    - thoughts so far- I want to get it to a state where it is ready to be visualized or analyzed but not acutally do those things. This is really going to depend on what visual or analysis is going to be done- so I'll find a use case and try to get the data to fit in that specific domain use case. "
   ]
  },
  {
   "cell_type": "markdown",
   "metadata": {},
   "source": [
    "### Cilmate + Weather"
   ]
  },
  {
   "cell_type": "markdown",
   "metadata": {},
   "source": [
    "##### Datasets:"
   ]
  },
  {
   "cell_type": "markdown",
   "metadata": {},
   "source": [
    "- http://climate.weather.gc.ca/index_e.html\n",
    "- Historical data\n",
    "- Radar data\n",
    "- http://climate.weather.gc.ca/prods_servs/cdn_climate_summary_e.html\n",
    "- Monthly summaries\n",
    "- csv and xml downloads\n"
   ]
  },
  {
   "cell_type": "markdown",
   "metadata": {},
   "source": [
    "- https://www.esrl.noaa.gov/gmd/grad/surfrad/surf_check.php\n",
    "- Plot examples"
   ]
  },
  {
   "cell_type": "markdown",
   "metadata": {},
   "source": [
    "##### Research\n",
    "- Python resources\n",
    "- https://drclimate.wordpress.com/2016/10/04/the-weatherclimate-python-stack/\n",
    "- https://scitools.org.uk/iris/docs/latest/userguide/iris_cubes.html\n",
    "- xarray\n",
    "- https://arm-doe.github.io/pyart/"
   ]
  },
  {
   "cell_type": "markdown",
   "metadata": {},
   "source": [
    "### Oceanography"
   ]
  },
  {
   "cell_type": "markdown",
   "metadata": {},
   "source": [
    "##### Datasets:"
   ]
  },
  {
   "cell_type": "markdown",
   "metadata": {},
   "source": [
    "- https://planetos.com/\n",
    "    - https://data.planetos.com/datasets/noaa_blended_sea_winds_clim_global\n",
    "    - gridded "
   ]
  },
  {
   "cell_type": "markdown",
   "metadata": {},
   "source": [
    "### Earthquakes"
   ]
  },
  {
   "cell_type": "markdown",
   "metadata": {},
   "source": [
    "##### Datasets:"
   ]
  },
  {
   "cell_type": "markdown",
   "metadata": {},
   "source": [
    "- https://earthquake.usgs.gov/earthquakes/search/\n",
    "    - csv, xml or geojson\n",
    "    - timeseries\n",
    "    - https://stackoverflow.com/questions/42753745/how-can-i-parse-geojson-with-python"
   ]
  },
  {
   "cell_type": "markdown",
   "metadata": {},
   "source": [
    "##### Research\n",
    "- https://earthquake.usgs.gov/research/"
   ]
  },
  {
   "cell_type": "markdown",
   "metadata": {},
   "source": [
    "### Social Science"
   ]
  },
  {
   "cell_type": "markdown",
   "metadata": {},
   "source": [
    "##### Datasets:\n",
    "    - https://cooldatasets.com/"
   ]
  },
  {
   "cell_type": "code",
   "execution_count": null,
   "metadata": {},
   "outputs": [],
   "source": []
  }
 ],
 "metadata": {
  "kernelspec": {
   "display_name": "Python 3",
   "language": "python",
   "name": "python3"
  },
  "language_info": {
   "codemirror_mode": {
    "name": "ipython",
    "version": 3
   },
   "file_extension": ".py",
   "mimetype": "text/x-python",
   "name": "python",
   "nbconvert_exporter": "python",
   "pygments_lexer": "ipython3",
   "version": "3.6.6"
  },
  "toc": {
   "base_numbering": 1,
   "nav_menu": {},
   "number_sections": true,
   "sideBar": true,
   "skip_h1_title": false,
   "title_cell": "Table of Contents",
   "title_sidebar": "Contents",
   "toc_cell": false,
   "toc_position": {},
   "toc_section_display": true,
   "toc_window_display": false
  },
  "varInspector": {
   "cols": {
    "lenName": 16,
    "lenType": 16,
    "lenVar": 40
   },
   "kernels_config": {
    "python": {
     "delete_cmd_postfix": "",
     "delete_cmd_prefix": "del ",
     "library": "var_list.py",
     "varRefreshCmd": "print(var_dic_list())"
    },
    "r": {
     "delete_cmd_postfix": ") ",
     "delete_cmd_prefix": "rm(",
     "library": "var_list.r",
     "varRefreshCmd": "cat(var_dic_list()) "
    }
   },
   "types_to_exclude": [
    "module",
    "function",
    "builtin_function_or_method",
    "instance",
    "_Feature"
   ],
   "window_display": false
  }
 },
 "nbformat": 4,
 "nbformat_minor": 2
}
