{
 "cells": [
  {
   "cell_type": "markdown",
   "metadata": {},
   "source": [
    "**File Processing Across Science Domains with Python**"
   ]
  },
  {
   "cell_type": "markdown",
   "metadata": {},
   "source": [
    "Abstract:\n",
    "\n",
    "I want to do a half research and half coding project, where I use python to read in and parse different file types from difference science domains. For instance, some disciplines store everything in text files, others in json, others in specialized file types. I’d like to pick 3-5 science domains, find some free data sources, research how to handle the files and any metadata, and try to develop a program that will read in and make sense of the file contents for each dataset. By making sense of the contents, I mean the data should be formatted in either a human readable way or according to the domain standard.\n",
    "\n",
    "The purpose of this project is to:\n",
    "\n",
    "- Work on my file reading abilities in python\n",
    "- Investigate a systemic way of handling files in python from different perspectives\n",
    "- Understand how to handle metadata\n",
    "- Develop skills on how to handle different types of data"
   ]
  },
  {
   "cell_type": "markdown",
   "metadata": {},
   "source": [
    "Questions:\n",
    "- What domains will I focus on and how many?\n",
    "    - so far, three: Climate + Weather, Oceanography, Earthquakes\n",
    "    - considering doing a social science as well, so I don't just have physical science domains represented\n",
    "- What format is the secondary data coming in as?\n",
    "    - so far, csv, xml, geojson\n",
    "- What do can read this file type?\n",
    "    - base python, still working on this\n",
    "- What will the data look like? Dim, dtype, size, NAs, columns\n",
    "    - most likely, numbers, dates, descriptions\n",
    "- What do I need to do to change it?\n",
    "    - Additional libraries? Changing dtypes? Re-shaping? Calculations? Identifying useful columns?\n",
    "- What is the finished product? \n",
    "- What can I do with the finished product?\n",
    "    - thoughts so far- I want to get it to a state where it is ready to be visualized or analyzed but not acutally do those things. This is really going to depend on what visual or analysis is going to be done- so I'll find a use case and try to get the data to fit in that specific domain use case. "
   ]
  },
  {
   "cell_type": "markdown",
   "metadata": {},
   "source": [
    "### Cilmate + Weather"
   ]
  },
  {
   "cell_type": "markdown",
   "metadata": {},
   "source": [
    "##### Datasets:"
   ]
  },
  {
   "cell_type": "markdown",
   "metadata": {},
   "source": [
    "- http://climate.weather.gc.ca/index_e.html\n",
    "- Historical data\n",
    "- Radar data\n",
    "- http://climate.weather.gc.ca/prods_servs/cdn_climate_summary_e.html\n",
    "- Monthly summaries\n",
    "- csv and xml downloads\n"
   ]
  },
  {
   "cell_type": "markdown",
   "metadata": {},
   "source": [
    "- https://www.esrl.noaa.gov/gmd/grad/surfrad/surf_check.php\n",
    "- Plot examples"
   ]
  },
  {
   "cell_type": "markdown",
   "metadata": {},
   "source": [
    "##### Research\n",
    "- Python resources\n",
    "- https://drclimate.wordpress.com/2016/10/04/the-weatherclimate-python-stack/\n",
    "- https://scitools.org.uk/iris/docs/latest/userguide/iris_cubes.html\n",
    "- xarray\n",
    "- https://arm-doe.github.io/pyart/"
   ]
  },
  {
   "cell_type": "markdown",
   "metadata": {},
   "source": [
    "### Oceanography"
   ]
  },
  {
   "cell_type": "markdown",
   "metadata": {},
   "source": [
    "##### Datasets:"
   ]
  },
  {
   "cell_type": "markdown",
   "metadata": {},
   "source": [
    "- https://planetos.com/\n",
    "    - https://data.planetos.com/datasets/noaa_blended_sea_winds_clim_global\n",
    "    - gridded "
   ]
  },
  {
   "cell_type": "code",
   "execution_count": 135,
   "metadata": {},
   "outputs": [],
   "source": [
    "import requests"
   ]
  },
  {
   "cell_type": "code",
   "execution_count": 143,
   "metadata": {},
   "outputs": [],
   "source": [
    "# trying csv format\n",
    "dt = requests.get('https://api.planetos.com/v1/datasets/noaa_blended_sea_winds_clim_global/point?origin=dataset-details&lat=49.5&apikey=5c7e35edb8d64126a8794abe73b4d1b8&lon=-50.5&count=10&csv=true&count=50')"
   ]
  },
  {
   "cell_type": "code",
   "execution_count": 141,
   "metadata": {},
   "outputs": [],
   "source": [
    "# trying json format\n",
    "djson = requests.get('https://api.planetos.com/v1/datasets/noaa_blended_sea_winds_clim_global/point?origin=dataset-details&lat=49.5&apikey=5c7e35edb8d64126a8794abe73b4d1b8&lon=-50.5&count=10')"
   ]
  },
  {
   "cell_type": "code",
   "execution_count": 142,
   "metadata": {},
   "outputs": [
    {
     "name": "stdout",
     "output_type": "stream",
     "text": [
      "{\n",
      "  \"stats\": {\n",
      "    \"timeMin\": \"2000-01-15T00:00:00\",\n",
      "    \"count\": 10,\n",
      "    \"offset\": 0,\n",
      "    \"nextOffset\": 10,\n",
      "    \"timeMax\": \"2000-12-15T00:00:00\"\n",
      "  },\n",
      "  \"entries\": [{\n",
      "    \"context\": \"time_zlev_lat_lon\",\n",
      "    \"axes\": {\n",
      "      \"time\": \"2000-01-15T00:00:00\",\n",
      "      \"z\": 10.0,\n",
      "      \"latitude\": 49.5,\n",
      "      \"longitude\": -50.49999999999997\n",
      "    },\n",
      "    \"data\": {\n",
      "      \"u\": 5.937192916870117,\n",
      "      \"v\": 0.11202297359704971,\n",
      "      \"w\": 11.47663688659668\n",
      "    }\n",
      "  }, {\n",
      "    \"context\": \"time_zlev_lat_lon\",\n",
      "    \"axes\": {\n",
      "      \"time\": \"2000-02-15T00:00:00\",\n",
      "      \"z\": 10.0,\n",
      "      \"latitude\": 49.5,\n",
      "      \"longitude\": -50.49999999999997\n",
      "    },\n",
      "    \"data\": {\n",
      "      \"u\": 4.743940353393555,\n",
      "      \"v\": 0.5978343486785889,\n",
      "      \"w\": 10.427130699157715\n",
      "    }\n",
      "  }, {\n",
      "    \"context\": \"time_zlev_lat_lon\",\n",
      "    \"axes\": {\n",
      "      \"time\": \"2000-03-16T00:00:00\",\n",
      "      \"z\": 10.0,\n",
      "      \"latitude\": 49.5,\n",
      "      \"longitude\": -50.49999999999997\n",
      "    },\n",
      "    \"data\": {\n",
      "      \"u\": 3.575047731399536,\n",
      "      \"v\": -0.9129931330680847,\n",
      "      \"w\": 9.554756164550781\n",
      "    }\n",
      "  }, {\n",
      "    \"context\": \"time_zlev_lat_lon\",\n",
      "    \"axes\": {\n",
      "      \"time\": \"2000-04-15T00:00:00\",\n",
      "      \"z\": 10.0,\n",
      "      \"latitude\": 49.5,\n",
      "      \"longitude\": -50.49999999999997\n",
      "    },\n",
      "    \"data\": {\n",
      "      \"u\": 1.7229785919189453,\n",
      "      \"v\": -0.20937982201576233,\n",
      "      \"w\": 8.131121635437012\n",
      "    }\n",
      "  }, {\n",
      "    \"context\": \"time_zlev_lat_lon\",\n",
      "    \"axes\": {\n",
      "      \"time\": \"2000-05-15T00:00:00\",\n",
      "      \"z\": 10.0,\n",
      "      \"latitude\": 49.5,\n",
      "      \"longitude\": -50.49999999999997\n",
      "    },\n",
      "    \"data\": {\n",
      "      \"u\": 1.2662155628204346,\n",
      "      \"v\": 0.24141182005405426,\n",
      "      \"w\": 6.245646953582764\n",
      "    }\n",
      "  }, {\n",
      "    \"context\": \"time_zlev_lat_lon\",\n",
      "    \"axes\": {\n",
      "      \"time\": \"2000-06-15T00:00:00\",\n",
      "      \"z\": 10.0,\n",
      "      \"latitude\": 49.5,\n",
      "      \"longitude\": -50.49999999999997\n",
      "    },\n",
      "    \"data\": {\n",
      "      \"u\": 2.1460843086242676,\n",
      "      \"v\": 0.9425407648086548,\n",
      "      \"w\": 5.74296760559082\n",
      "    }\n",
      "  }, {\n",
      "    \"context\": \"time_zlev_lat_lon\",\n",
      "    \"axes\": {\n",
      "      \"time\": \"2000-07-15T00:00:00\",\n",
      "      \"z\": 10.0,\n",
      "      \"latitude\": 49.5,\n",
      "      \"longitude\": -50.49999999999997\n",
      "    },\n",
      "    \"data\": {\n",
      "      \"u\": 1.8298293352127075,\n",
      "      \"v\": 2.6227529048919678,\n",
      "      \"w\": 5.481565952301025\n",
      "    }\n",
      "  }, {\n",
      "    \"context\": \"time_zlev_lat_lon\",\n",
      "    \"axes\": {\n",
      "      \"time\": \"2000-08-15T00:00:00\",\n",
      "      \"z\": 10.0,\n",
      "      \"latitude\": 49.5,\n",
      "      \"longitude\": -50.49999999999997\n",
      "    },\n",
      "    \"data\": {\n",
      "      \"u\": 2.0974442958831787,\n",
      "      \"v\": 1.6682549715042114,\n",
      "      \"w\": 5.771543025970459\n",
      "    }\n",
      "  }, {\n",
      "    \"context\": \"time_zlev_lat_lon\",\n",
      "    \"axes\": {\n",
      "      \"time\": \"2000-09-15T00:00:00\",\n",
      "      \"z\": 10.0,\n",
      "      \"latitude\": 49.5,\n",
      "      \"longitude\": -50.49999999999997\n",
      "    },\n",
      "    \"data\": {\n",
      "      \"u\": 2.6578564643859863,\n",
      "      \"v\": 0.5432454347610474,\n",
      "      \"w\": 6.9756059646606445\n",
      "    }\n",
      "  }, {\n",
      "    \"context\": \"time_zlev_lat_lon\",\n",
      "    \"axes\": {\n",
      "      \"time\": \"2000-10-15T00:00:00\",\n",
      "      \"z\": 10.0,\n",
      "      \"latitude\": 49.5,\n",
      "      \"longitude\": -50.49999999999997\n",
      "    },\n",
      "    \"data\": {\n",
      "      \"u\": 2.8377273082733154,\n",
      "      \"v\": 0.14493028819561005,\n",
      "      \"w\": 8.257330894470215\n",
      "    }\n",
      "  }]\n",
      "}\n"
     ]
    }
   ],
   "source": [
    "print(djson.text)"
   ]
  },
  {
   "cell_type": "code",
   "execution_count": 140,
   "metadata": {},
   "outputs": [
    {
     "name": "stdout",
     "output_type": "stream",
     "text": [
      "axis:latitude,axis:longitude,axis:time,axis:z,data:u,data:v,data:w\n",
      "49.5,-50.49999999999997,\"2000-01-15T00:00:00\",10.0,5.937192916870117,0.11202297359704971,11.47663688659668\n",
      "49.5,-50.49999999999997,\"2000-02-15T00:00:00\",10.0,4.743940353393555,0.5978343486785889,10.427130699157715\n",
      "49.5,-50.49999999999997,\"2000-03-16T00:00:00\",10.0,3.575047731399536,-0.9129931330680847,9.554756164550781\n",
      "49.5,-50.49999999999997,\"2000-04-15T00:00:00\",10.0,1.7229785919189453,-0.20937982201576233,8.131121635437012\n",
      "49.5,-50.49999999999997,\"2000-05-15T00:00:00\",10.0,1.2662155628204346,0.24141182005405426,6.245646953582764\n",
      "49.5,-50.49999999999997,\"2000-06-15T00:00:00\",10.0,2.1460843086242676,0.9425407648086548,5.74296760559082\n",
      "49.5,-50.49999999999997,\"2000-07-15T00:00:00\",10.0,1.8298293352127075,2.6227529048919678,5.481565952301025\n",
      "49.5,-50.49999999999997,\"2000-08-15T00:00:00\",10.0,2.0974442958831787,1.6682549715042114,5.771543025970459\n",
      "49.5,-50.49999999999997,\"2000-09-15T00:00:00\",10.0,2.6578564643859863,0.5432454347610474,6.9756059646606445\n",
      "49.5,-50.49999999999997,\"2000-10-15T00:00:00\",10.0,2.8377273082733154,0.14493028819561005,8.257330894470215\n",
      "49.5,-50.49999999999997,\"2000-11-15T00:00:00\",10.0,3.541229486465454,0.3676983118057251,9.56771183013916\n",
      "49.5,-50.49999999999997,\"2000-12-15T00:00:00\",10.0,4.33088493347168,0.3587786853313446,10.558120727539062\n"
     ]
    }
   ],
   "source": [
    "print(dt.text)"
   ]
  },
  {
   "cell_type": "markdown",
   "metadata": {},
   "source": [
    "### Earthquakes"
   ]
  },
  {
   "cell_type": "markdown",
   "metadata": {},
   "source": [
    "##### Datasets:"
   ]
  },
  {
   "cell_type": "markdown",
   "metadata": {},
   "source": [
    "- https://earthquake.usgs.gov/earthquakes/search/\n",
    "    - csv, xml or geojson\n",
    "    - timeseries\n",
    "    - https://stackoverflow.com/questions/42753745/how-can-i-parse-geojson-with-python"
   ]
  },
  {
   "cell_type": "code",
   "execution_count": 12,
   "metadata": {},
   "outputs": [
    {
     "name": "stdout",
     "output_type": "stream",
     "text": [
      "Collecting geojson\n",
      "  Downloading https://files.pythonhosted.org/packages/f1/34/bc3a65faabce27a7faa755ab08d811207a4fc438f77ef09c229fc022d778/geojson-2.4.1-py2.py3-none-any.whl\n",
      "Installing collected packages: geojson\n",
      "Successfully installed geojson-2.4.1\n",
      "\u001b[33mYou are using pip version 18.0, however version 19.0.3 is available.\n",
      "You should consider upgrading via the 'pip install --upgrade pip' command.\u001b[0m\n"
     ]
    }
   ],
   "source": [
    "! pip install geojson"
   ]
  },
  {
   "cell_type": "code",
   "execution_count": 28,
   "metadata": {},
   "outputs": [],
   "source": [
    "import geojson"
   ]
  },
  {
   "cell_type": "code",
   "execution_count": 31,
   "metadata": {},
   "outputs": [],
   "source": [
    "with open(\"Earthquake_GeoJson.json\") as f:\n",
    "    gj = geojson.load(f)"
   ]
  },
  {
   "cell_type": "code",
   "execution_count": 32,
   "metadata": {},
   "outputs": [
    {
     "name": "stdout",
     "output_type": "stream",
     "text": [
      "dict_keys(['type', 'metadata', 'bbox', 'features'])\n"
     ]
    }
   ],
   "source": [
    "print(gj.keys())"
   ]
  },
  {
   "cell_type": "code",
   "execution_count": 132,
   "metadata": {},
   "outputs": [
    {
     "name": "stdout",
     "output_type": "stream",
     "text": [
      "{\"geometry\": {\"coordinates\": [-175.7399, -22.6763, 10], \"type\": \"Point\"}, \"id\": \"us700035gt\", \"properties\": {\"alert\": null, \"cdi\": null, \"code\": \"700035gt\", \"detail\": \"https://earthquake.usgs.gov/fdsnws/event/1/query?eventid=us700035gt&format=geojson\", \"dmin\": 8.624, \"felt\": null, \"gap\": 116, \"ids\": \",us700035gt,\", \"mag\": 4.9, \"magType\": \"mb\", \"mmi\": null, \"net\": \"us\", \"nst\": null, \"place\": \"169km SSW of `Ohonua, Tonga\", \"rms\": 0.74, \"sig\": 369, \"sources\": \",us,\", \"status\": \"reviewed\", \"time\": 1555174874150, \"title\": \"M 4.9 - 169km SSW of `Ohonua, Tonga\", \"tsunami\": 0, \"type\": \"earthquake\", \"types\": \",geoserve,origin,phase-data,\", \"tz\": -720, \"updated\": 1555177471040, \"url\": \"https://earthquake.usgs.gov/earthquakes/eventpage/us700035gt\"}, \"type\": \"Feature\"}\n"
     ]
    }
   ],
   "source": [
    "features = gj['features'][0]\n",
    "print(features)\n",
    "# has the most data\n",
    "# what is useful to extract and transform?\n",
    "# coordinates, magnitude, magtype, place, sources, time"
   ]
  },
  {
   "cell_type": "code",
   "execution_count": 131,
   "metadata": {},
   "outputs": [
    {
     "name": "stdout",
     "output_type": "stream",
     "text": [
      "FeatureCollection\n",
      "\n",
      "{'generated': 1555179250000, 'url': 'https://earthquake.usgs.gov/fdsnws/event/1/query.geojson?starttime=2019-03-14%2000:00:00&endtime=2019-04-13%2023:59:59&minmagnitude=4.5&orderby=time', 'title': 'USGS Earthquakes', 'status': 200, 'api': '1.8.1', 'count': 468}\n",
      "\n",
      "[-179.8822, -64.6529, 2.8, 179.3101, 85.1725, 616.53]\n"
     ]
    }
   ],
   "source": [
    "print(gj[\"type\"])\n",
    "print()\n",
    "# metadata could be useful\n",
    "print(gj['metadata'])\n",
    "print()\n",
    "# could be useful for data visualization\n",
    "print(gj['bbox'])"
   ]
  },
  {
   "cell_type": "markdown",
   "metadata": {},
   "source": [
    "##### Research\n",
    "- https://earthquake.usgs.gov/research/\n",
    "- https://github.com/NCAR/chords/wiki/JSON-vs-GeoJSON\n",
    "    - it's doesn't seem like there are any technical differences between JSON and GEOJSON\n",
    "    - GEOJSON seems to be streamlined way of storing geographic data, and is any data that is bound by coordinates in space\n",
    "    - so I can break this down like a JSON!"
   ]
  },
  {
   "cell_type": "markdown",
   "metadata": {},
   "source": [
    "### Social Science"
   ]
  },
  {
   "cell_type": "markdown",
   "metadata": {},
   "source": [
    "##### Datasets:\n",
    "    - https://cooldatasets.com/"
   ]
  },
  {
   "cell_type": "code",
   "execution_count": 94,
   "metadata": {},
   "outputs": [],
   "source": [
    "import csv\n",
    "import pandas as pd"
   ]
  },
  {
   "cell_type": "code",
   "execution_count": 129,
   "metadata": {},
   "outputs": [],
   "source": [
    "# try twitter dataset- if can't be fixed find a new one\n",
    "# Find issue in the rows - find a way to exclude difficult rows\n",
    "# row 70 has an issue\n",
    "twitter_pd = pd.read_csv('twitter-hate-speech-classifier-DFE-a845520.csv', sep=',', nrows=69, header = 0)"
   ]
  },
  {
   "cell_type": "code",
   "execution_count": 107,
   "metadata": {},
   "outputs": [
    {
     "data": {
      "text/html": [
       "<div>\n",
       "<style scoped>\n",
       "    .dataframe tbody tr th:only-of-type {\n",
       "        vertical-align: middle;\n",
       "    }\n",
       "\n",
       "    .dataframe tbody tr th {\n",
       "        vertical-align: top;\n",
       "    }\n",
       "\n",
       "    .dataframe thead th {\n",
       "        text-align: right;\n",
       "    }\n",
       "</style>\n",
       "<table border=\"1\" class=\"dataframe\">\n",
       "  <thead>\n",
       "    <tr style=\"text-align: right;\">\n",
       "      <th></th>\n",
       "      <th>_unit_id</th>\n",
       "      <th>_golden</th>\n",
       "      <th>_unit_state</th>\n",
       "      <th>_trusted_judgments</th>\n",
       "      <th>_last_judgment_at</th>\n",
       "      <th>does_this_tweet_contain_hate_speech</th>\n",
       "      <th>does_this_tweet_contain_hate_speech:confidence</th>\n",
       "      <th>_created_at</th>\n",
       "      <th>orig__golden</th>\n",
       "      <th>orig__last_judgment_at</th>\n",
       "      <th>orig__trusted_judgments</th>\n",
       "      <th>orig__unit_id</th>\n",
       "      <th>orig__unit_state</th>\n",
       "      <th>_updated_at</th>\n",
       "      <th>orig_does_this_tweet_contain_hate_speech</th>\n",
       "      <th>does_this_tweet_contain_hate_speech_gold</th>\n",
       "      <th>does_this_tweet_contain_hate_speech_gold_reason</th>\n",
       "      <th>does_this_tweet_contain_hate_speechconfidence</th>\n",
       "      <th>tweet_id</th>\n",
       "      <th>tweet_text</th>\n",
       "    </tr>\n",
       "  </thead>\n",
       "  <tbody>\n",
       "    <tr>\n",
       "      <th>0</th>\n",
       "      <td>853718217</td>\n",
       "      <td>True</td>\n",
       "      <td>golden</td>\n",
       "      <td>86</td>\n",
       "      <td>NaN</td>\n",
       "      <td>The tweet uses offensive language but not hate...</td>\n",
       "      <td>0.6013</td>\n",
       "      <td>NaN</td>\n",
       "      <td>True</td>\n",
       "      <td>NaN</td>\n",
       "      <td>0</td>\n",
       "      <td>615561535</td>\n",
       "      <td>golden</td>\n",
       "      <td>NaN</td>\n",
       "      <td>The tweet contains hate speech</td>\n",
       "      <td>The tweet contains hate speech\\nThe tweet uses...</td>\n",
       "      <td>NaN</td>\n",
       "      <td>1</td>\n",
       "      <td>1666196150</td>\n",
       "      <td>Warning: penny boards will make you a faggot</td>\n",
       "    </tr>\n",
       "    <tr>\n",
       "      <th>1</th>\n",
       "      <td>853718218</td>\n",
       "      <td>True</td>\n",
       "      <td>golden</td>\n",
       "      <td>92</td>\n",
       "      <td>NaN</td>\n",
       "      <td>The tweet contains hate speech</td>\n",
       "      <td>0.7227</td>\n",
       "      <td>NaN</td>\n",
       "      <td>True</td>\n",
       "      <td>NaN</td>\n",
       "      <td>0</td>\n",
       "      <td>615561723</td>\n",
       "      <td>golden</td>\n",
       "      <td>NaN</td>\n",
       "      <td>The tweet contains hate speech</td>\n",
       "      <td>The tweet contains hate speech\\nThe tweet uses...</td>\n",
       "      <td>NaN</td>\n",
       "      <td>1</td>\n",
       "      <td>429512078</td>\n",
       "      <td>Fuck dykes</td>\n",
       "    </tr>\n",
       "    <tr>\n",
       "      <th>2</th>\n",
       "      <td>853718219</td>\n",
       "      <td>True</td>\n",
       "      <td>golden</td>\n",
       "      <td>86</td>\n",
       "      <td>NaN</td>\n",
       "      <td>The tweet contains hate speech</td>\n",
       "      <td>0.5229</td>\n",
       "      <td>NaN</td>\n",
       "      <td>True</td>\n",
       "      <td>NaN</td>\n",
       "      <td>0</td>\n",
       "      <td>615562039</td>\n",
       "      <td>golden</td>\n",
       "      <td>NaN</td>\n",
       "      <td>The tweet contains hate speech</td>\n",
       "      <td>The tweet contains hate speech\\nThe tweet uses...</td>\n",
       "      <td>NaN</td>\n",
       "      <td>1</td>\n",
       "      <td>395623778</td>\n",
       "      <td>@sizzurp__ @ILIKECATS74 @yoPapi_chulo @brandon...</td>\n",
       "    </tr>\n",
       "    <tr>\n",
       "      <th>3</th>\n",
       "      <td>853718220</td>\n",
       "      <td>True</td>\n",
       "      <td>golden</td>\n",
       "      <td>98</td>\n",
       "      <td>NaN</td>\n",
       "      <td>The tweet contains hate speech</td>\n",
       "      <td>0.5184</td>\n",
       "      <td>NaN</td>\n",
       "      <td>True</td>\n",
       "      <td>NaN</td>\n",
       "      <td>0</td>\n",
       "      <td>615562068</td>\n",
       "      <td>golden</td>\n",
       "      <td>NaN</td>\n",
       "      <td>The tweet contains hate speech</td>\n",
       "      <td>The tweet contains hate speech\\nThe tweet uses...</td>\n",
       "      <td>NaN</td>\n",
       "      <td>1</td>\n",
       "      <td>497514685</td>\n",
       "      <td>\"@jayswaggkillah: \"@JacklynAnnn: @jayswaggkill...</td>\n",
       "    </tr>\n",
       "    <tr>\n",
       "      <th>4</th>\n",
       "      <td>853718221</td>\n",
       "      <td>True</td>\n",
       "      <td>golden</td>\n",
       "      <td>88</td>\n",
       "      <td>NaN</td>\n",
       "      <td>The tweet uses offensive language but not hate...</td>\n",
       "      <td>0.5185</td>\n",
       "      <td>NaN</td>\n",
       "      <td>True</td>\n",
       "      <td>NaN</td>\n",
       "      <td>0</td>\n",
       "      <td>615562488</td>\n",
       "      <td>golden</td>\n",
       "      <td>NaN</td>\n",
       "      <td>The tweet contains hate speech</td>\n",
       "      <td>The tweet contains hate speech\\nThe tweet uses...</td>\n",
       "      <td>NaN</td>\n",
       "      <td>1</td>\n",
       "      <td>588923553</td>\n",
       "      <td>@Zhugstubble You heard me bitch but any way I'...</td>\n",
       "    </tr>\n",
       "  </tbody>\n",
       "</table>\n",
       "</div>"
      ],
      "text/plain": [
       "    _unit_id  _golden _unit_state  _trusted_judgments  _last_judgment_at  \\\n",
       "0  853718217     True      golden                  86                NaN   \n",
       "1  853718218     True      golden                  92                NaN   \n",
       "2  853718219     True      golden                  86                NaN   \n",
       "3  853718220     True      golden                  98                NaN   \n",
       "4  853718221     True      golden                  88                NaN   \n",
       "\n",
       "                 does_this_tweet_contain_hate_speech  \\\n",
       "0  The tweet uses offensive language but not hate...   \n",
       "1                     The tweet contains hate speech   \n",
       "2                     The tweet contains hate speech   \n",
       "3                     The tweet contains hate speech   \n",
       "4  The tweet uses offensive language but not hate...   \n",
       "\n",
       "   does_this_tweet_contain_hate_speech:confidence  _created_at  orig__golden  \\\n",
       "0                                          0.6013          NaN          True   \n",
       "1                                          0.7227          NaN          True   \n",
       "2                                          0.5229          NaN          True   \n",
       "3                                          0.5184          NaN          True   \n",
       "4                                          0.5185          NaN          True   \n",
       "\n",
       "   orig__last_judgment_at  orig__trusted_judgments  orig__unit_id  \\\n",
       "0                     NaN                        0      615561535   \n",
       "1                     NaN                        0      615561723   \n",
       "2                     NaN                        0      615562039   \n",
       "3                     NaN                        0      615562068   \n",
       "4                     NaN                        0      615562488   \n",
       "\n",
       "  orig__unit_state  _updated_at orig_does_this_tweet_contain_hate_speech  \\\n",
       "0           golden          NaN           The tweet contains hate speech   \n",
       "1           golden          NaN           The tweet contains hate speech   \n",
       "2           golden          NaN           The tweet contains hate speech   \n",
       "3           golden          NaN           The tweet contains hate speech   \n",
       "4           golden          NaN           The tweet contains hate speech   \n",
       "\n",
       "            does_this_tweet_contain_hate_speech_gold  \\\n",
       "0  The tweet contains hate speech\\nThe tweet uses...   \n",
       "1  The tweet contains hate speech\\nThe tweet uses...   \n",
       "2  The tweet contains hate speech\\nThe tweet uses...   \n",
       "3  The tweet contains hate speech\\nThe tweet uses...   \n",
       "4  The tweet contains hate speech\\nThe tweet uses...   \n",
       "\n",
       "   does_this_tweet_contain_hate_speech_gold_reason  \\\n",
       "0                                              NaN   \n",
       "1                                              NaN   \n",
       "2                                              NaN   \n",
       "3                                              NaN   \n",
       "4                                              NaN   \n",
       "\n",
       "   does_this_tweet_contain_hate_speechconfidence    tweet_id  \\\n",
       "0                                              1  1666196150   \n",
       "1                                              1   429512078   \n",
       "2                                              1   395623778   \n",
       "3                                              1   497514685   \n",
       "4                                              1   588923553   \n",
       "\n",
       "                                          tweet_text  \n",
       "0       Warning: penny boards will make you a faggot  \n",
       "1                                         Fuck dykes  \n",
       "2  @sizzurp__ @ILIKECATS74 @yoPapi_chulo @brandon...  \n",
       "3  \"@jayswaggkillah: \"@JacklynAnnn: @jayswaggkill...  \n",
       "4  @Zhugstubble You heard me bitch but any way I'...  "
      ]
     },
     "execution_count": 107,
     "metadata": {},
     "output_type": "execute_result"
    }
   ],
   "source": [
    "twitter_pd.head(5)"
   ]
  },
  {
   "cell_type": "code",
   "execution_count": 93,
   "metadata": {},
   "outputs": [
    {
     "name": "stdout",
     "output_type": "stream",
     "text": [
      "<_csv.reader object at 0x1101a03c8>\n",
      "['_unit_id', '_golden', '_unit_state', '_trusted_judgments', '_last_judgment_at', 'does_this_tweet_contain_hate_speech', 'does_this_tweet_contain_hate_speech:confidence', '_created_at', 'orig__golden', 'orig__last_judgment_at', 'orig__trusted_judgments', 'orig__unit_id', 'orig__unit_state', '_updated_at', 'orig_does_this_tweet_contain_hate_speech', 'does_this_tweet_contain_hate_speech_gold', 'does_this_tweet_contain_hate_speech_gold_reason', 'does_this_tweet_contain_hate_speechconfidence', 'tweet_id', 'tweet_text']\n",
      "['853718217', 'TRUE', 'golden', '86', '', 'The tweet uses offensive language but not hate speech', '0.6013', '', 'TRUE', '', '0', '615561535', 'golden', '', 'The tweet contains hate speech', 'The tweet contains hate speech\\nThe tweet uses offensive language but not hate speech', '', '1', '1666196150', 'Warning: penny boards will make you a faggot']\n",
      "['853718218', 'TRUE', 'golden', '92', '', 'The tweet contains hate speech', '0.7227', '', 'TRUE', '', '0', '615561723', 'golden', '', 'The tweet contains hate speech', 'The tweet contains hate speech\\nThe tweet uses offensive language but not hate speech', '', '1', '429512078', 'Fuck dykes']\n",
      "['853718219', 'TRUE', 'golden', '86', '', 'The tweet contains hate speech', '0.5229', '', 'TRUE', '', '0', '615562039', 'golden', '', 'The tweet contains hate speech', 'The tweet contains hate speech\\nThe tweet uses offensive language but not hate speech', '', '1', '395623778', '@sizzurp__ @ILIKECATS74 @yoPapi_chulo @brandonernandez @bootyacid at least i dont look like jefree starr faggot']\n",
      "['853718220', 'TRUE', 'golden', '98', '', 'The tweet contains hate speech', '0.5184', '', 'TRUE', '', '0', '615562068', 'golden', '', 'The tweet contains hate speech', 'The tweet contains hate speech\\nThe tweet uses offensive language but not hate speech', '', '1', '497514685', '\"@jayswaggkillah: \"@JacklynAnnn: @jayswaggkillah Is a fag\" jackie jealous\" Neeeee']\n",
      "['853718221', 'TRUE', 'golden', '88', '', 'The tweet uses offensive language but not hate speech', '0.5185', '', 'TRUE', '', '0', '615562488', 'golden', '', 'The tweet contains hate speech', 'The tweet contains hate speech\\nThe tweet uses offensive language but not hate speech', '', '1', '588923553', \"@Zhugstubble You heard me bitch but any way I'm back th texas so wtf u talking about bitch ass nigga\"]\n",
      "['853718222', 'TRUE', 'golden', '93', '', 'The tweet contains hate speech', '0.8816', '', 'TRUE', '', '0', '615562522', 'golden', '', 'The tweet contains hate speech', 'The tweet contains hate speech', '', '1', '203816023', '@elaynay your a dirty terrorist and your religion is a fucking joke, you go around screaming Allah akbar doing terrorist shit. Dirty faggot.']\n",
      "['853718223', 'TRUE', 'golden', '88', '', 'The tweet contains hate speech', '0.5207', '', 'TRUE', '', '0', '615562768', 'golden', '', 'The tweet contains hate speech', 'The tweet contains hate speech\\nThe tweet uses offensive language but not hate speech', '', '1', '1945524931', 'RT @ivanrabago_: @_WhitePonyJr_ looking like faggots?']\n",
      "['853718224', 'TRUE', 'golden', '90', '', 'The tweet contains hate speech', '0.5619', '', 'TRUE', '', '0', '615563304', 'golden', '', 'The tweet contains hate speech', 'The tweet contains hate speech\\nThe tweet uses offensive language but not hate speech', '', '1', '210818115', \"Well I thought you knew actually RT @KingHorseDick: Man why y'all didn't tell me I was a dick riding ass faggot? Y'all not real &#128557;&#128557;&#128557;&#128557;&#128557;&#128557;\"]\n",
      "['853718225', 'TRUE', 'golden', '92', '', 'The tweet uses offensive language but not hate speech', '0.6419', '', 'TRUE', '', '0', '615563419', 'golden', '', 'The tweet contains hate speech', 'The tweet contains hate speech\\nThe tweet uses offensive language but not hate speech', '', '1', '342826948', '@Stonisnipezz I know. It was a joke, faggot.']\n",
      "['853718226', 'TRUE', 'golden', '95', '', 'The tweet uses offensive language but not hate speech', '0.6407', '', 'TRUE', '', '0', '615563491', 'golden', '', 'The tweet contains hate speech', 'The tweet contains hate speech\\nThe tweet uses offensive language but not hate speech', '', '1', '818430446', \"I'm tired of people saying I look like my brother &amp; calling me Deondre' like serious Succ My Ass fag asses\"]\n",
      "['853718227', 'TRUE', 'golden', '84', '', 'The tweet contains hate speech', '0.7619', '', 'TRUE', '', '0', '615563519', 'golden', '', 'The tweet contains hate speech', 'The tweet contains hate speech\\nThe tweet uses offensive language but not hate speech', '', '1', '105105254', '#VoteBlue2014 Yeah. CUZ 8 million people in faggot ass #newyork are #chickenshit JEWS&gt; FUCK THEM right? Fuck Bibi Netanyahu. RIGHT?']\n",
      "['853718228', 'TRUE', 'golden', '91', '', 'The tweet contains hate speech', '0.5606', '', 'TRUE', '', '0', '615563660', 'golden', '', 'The tweet contains hate speech', 'The tweet contains hate speech\\nThe tweet uses offensive language but not hate speech', '', '1', '203816023', '@AndreBerto word is you use roids, stupid hypocrite lying faggot.']\n",
      "['853718229', 'TRUE', 'golden', '94', '', 'The tweet contains hate speech', '0.8435', '', 'TRUE', '', '0', '615563683', 'golden', '', 'The tweet contains hate speech', 'The tweet contains hate speech', '', '1', '395623778', 'I hate faggots like you']\n",
      "['853718230', 'TRUE', 'golden', '86', '', 'The tweet contains hate speech', '0.8414', '', 'TRUE', '', '0', '615563702', 'golden', '', 'The tweet contains hate speech', 'The tweet contains hate speech', '', '1', '1488430273', '@MoriTaheripour shut up nigger whore! Hope u get raped by one of those animals. Might change your tune.']\n",
      "['853718231', 'TRUE', 'golden', '90', '', 'The tweet contains hate speech', '0.8826', '', 'TRUE', '', '0', '615563784', 'golden', '', 'The tweet contains hate speech', 'The tweet contains hate speech', '', '1', '1488430273', '@Oprah @3LWTV Fuck you nigger sheboon. Hope you r strung up like all niggers should be. WHITEPOWER. #1488']\n",
      "['853718232', 'TRUE', 'golden', '88', '', 'The tweet contains hate speech', '0.762', '', 'TRUE', '', '0', '615563879', 'golden', '', 'The tweet contains hate speech', 'The tweet contains hate speech\\nThe tweet uses offensive language but not hate speech', '', '1', '218965679', 'They used to tie both ends of a niggers legs to 2 different horses and beat him as the horses spread until his legs break ... Smh']\n",
      "['853718233', 'TRUE', 'golden', '93', '', 'The tweet contains hate speech', '0.6833', '', 'TRUE', '', '0', '615563921', 'golden', '', 'The tweet contains hate speech', 'The tweet contains hate speech\\nThe tweet uses offensive language but not hate speech', '', '1', '2472721168', \"Good night fags and fagettes (that's the female version of fags like fag-ettes to make it female) I hate you all.\"]\n",
      "['853718234', 'TRUE', 'golden', '88', '', 'The tweet uses offensive language but not hate speech', '0.5204', '', 'TRUE', '', '0', '615564197', 'golden', '', 'The tweet contains hate speech', 'The tweet contains hate speech\\nThe tweet uses offensive language but not hate speech', '', '1', '79140662', 'I cant stand no crybaby ass nigga. If you gonna act like a bitch I will leave yo ass after I instavideo yo stupid lookin ass']\n",
      "['853718235', 'TRUE', 'golden', '95', '', 'The tweet contains hate speech', '0.641', '', 'TRUE', '', '0', '615564342', 'golden', '', 'The tweet contains hate speech', 'The tweet contains hate speech\\nThe tweet uses offensive language but not hate speech', '', '1', '2373785059', \"RT @nerdkiller669: @ShinSnipes no you're a nigger\"]\n",
      "['853718236', 'TRUE', 'golden', '90', '', 'The tweet uses offensive language but not hate speech', '0.6419', '', 'TRUE', '', '0', '615564392', 'golden', '', 'The tweet contains hate speech', 'The tweet contains hate speech\\nThe tweet uses offensive language but not hate speech', '', '1', '325412982', '\"I\\'ll fuck you til you love me faggot\" - Mike Tyson']\n",
      "['853718237', 'TRUE', 'golden', '91', '', 'The tweet contains hate speech', '0.7608', '', 'TRUE', '', '0', '615565207', 'golden', '', 'The tweet contains hate speech', 'The tweet contains hate speech\\nThe tweet uses offensive language but not hate speech', '', '1', '1488430273', \"@OxbloodStomper @PalePixie88 @SlaveCatcher88 what's your problem? Don't u know Jews control niggers? Read a book or two.\"]\n",
      "['853718238', 'TRUE', 'golden', '92', '', 'The tweet contains hate speech', '0.9221', '', 'TRUE', '', '0', '615565821', 'golden', '', 'The tweet contains hate speech', 'The tweet contains hate speech\\nThe tweet uses offensive language but not hate speech', '', '1', '29978724', 'I fucking hate you niggers bruh... http://t.co/OeTK4f94BO']\n",
      "['853718239', 'TRUE', 'golden', '92', '', 'The tweet is not offensive', '1', '', 'TRUE', '', '0', '615561124', 'golden', '', 'The tweet is not offensive', 'The tweet is not offensive', '', '1', '1165002522', 'RT @Fact: Some species of birds have been known to hold funerals for their deceased.']\n",
      "['853718240', 'TRUE', 'golden', '91', '', 'The tweet is not offensive', '1', '', 'TRUE', '', '0', '615561133', 'golden', '', 'The tweet is not offensive', 'The tweet is not offensive', '', '1', '283696380', \"I remember Draft prom night, my dress wouldn't zip up and I was bawling my eyes out and screaming I didn't want to go... So funny. Haha.\"]\n",
      "['853718241', 'TRUE', 'golden', '90', '', 'The tweet is not offensive', '0.9218', '', 'TRUE', '', '0', '615561137', 'golden', '', 'The tweet is not offensive', 'The tweet is not offensive', '', '1', '190108253', \"Damn Eli. That's just ruff. I'm not even gonna trash talk that one. Get your game together Eli. You're a good QB. Stop with the TO's\"]\n",
      "['853718242', 'TRUE', 'golden', '93', '', 'The tweet is not offensive', '0.9204', '', 'TRUE', '', '0', '615561147', 'golden', '', 'The tweet is not offensive', 'The tweet uses offensive language but not hate speech\\nThe tweet is not offensive', '', '1', '100480088', 'Also, Happy Armistice Day, anachronists!\\n\\n&#8220;The Hun is either at your throat or at your feet.&#8221; - Churchill']\n",
      "['853718243', 'TRUE', 'golden', '88', '', 'The tweet is not offensive', '1', '', 'TRUE', '', '0', '615561165', 'golden', '', 'The tweet is not offensive', 'The tweet is not offensive', '', '1', '430017793', \"@ExpSelf A friend suggested I dress as a Fairy for a Halloween party we're attending...I'm thinking more Wizardess of course. :)\"]\n",
      "['853718244', 'TRUE', 'golden', '94', '', 'The tweet is not offensive', '0.8388', '', 'TRUE', '', '0', '615561179', 'golden', '', 'The tweet is not offensive', 'The tweet uses offensive language but not hate speech\\nThe tweet is not offensive', '', '1', '1232408766', 'RT @BitchPlsComedy: apparently &#8220;bae&#8221; means &#8220;before anyone else&#8221; i always thought it was a ghetto word for &#8220;babe&#8221;']\n",
      "['853718245', 'TRUE', 'golden', '91', '', 'The tweet is not offensive', '1', '', 'TRUE', '', '0', '615561181', 'golden', '', 'The tweet is not offensive', 'The tweet is not offensive', '', '1', '2472721168', '@RiotSupport so I was suspended for a day because of a random lag spikes that force me to close the client and relog and suspended. GG']\n",
      "['853718246', 'TRUE', 'golden', '90', '', 'The tweet is not offensive', '1', '', 'TRUE', '', '0', '615561183', 'golden', '', 'The tweet is not offensive', 'The tweet is not offensive', '', '1', '24233192', '#Flyers w/ some moxy! Big comeback again!!! Major penalty killed the Caps.Great game. 5 cases of #tastycakes']\n",
      "['853718247', 'TRUE', 'golden', '87', '', 'The tweet is not offensive', '1', '', 'TRUE', '', '0', '615561190', 'golden', '', 'The tweet is not offensive', 'The tweet is not offensive', '', '1', '266932764', 'pollo&#128523;&#128523;&#128523;']\n",
      "['853718248', 'TRUE', 'golden', '93', '', 'The tweet is not offensive', '1', '', 'TRUE', '', '0', '615561192', 'golden', '', 'The tweet is not offensive', 'The tweet is not offensive', '', '1', '82977912', '#YouWillNotBeTakenSeriouslyIf you wear shorty shorts and fuzzy boots in negative degree weather.']\n",
      "['853718249', 'TRUE', 'golden', '95', '', 'The tweet is not offensive', '1', '', 'TRUE', '', '0', '615561195', 'golden', '', 'The tweet is not offensive', 'The tweet is not offensive', '', '1', '112078104', \"@LeeLee0474 Awww, that's cute! My niece's guinea pig crawled up her dad's pants &amp; well I don't think I need to finish this sentence.lol\"]\n",
      "['853718250', 'TRUE', 'golden', '93', '', 'The tweet is not offensive', '1', '', 'TRUE', '', '0', '615561208', 'golden', '', 'The tweet is not offensive', 'The tweet is not offensive', '', '1', '282629614', 'Then gave the ole uncle Charlie to mr Ortiz #nyy @DBetances50']\n",
      "['853718251', 'TRUE', 'golden', '91', '', 'The tweet is not offensive', '1', '', 'TRUE', '', '0', '615561214', 'golden', '', 'The tweet is not offensive', 'The tweet is not offensive', '', '1', '387922273', 'RT @YepillPosts: If I had a dollar for every time I died on flappy bird http://t.co/pj8QSBTe2L']\n",
      "['853718252', 'TRUE', 'golden', '96', '', 'The tweet is not offensive', '0.8391', '', 'TRUE', '', '0', '615561215', 'golden', '', 'The tweet is not offensive', 'The tweet uses offensive language but not hate speech\\nThe tweet is not offensive', '', '1', '454364450', \"RT @kelter1: The fact that Kim Kardashian's app may make $200 million makes me wish we can speed up the process of having the apes take ove&#8230;\"]\n",
      "['853718253', 'TRUE', 'golden', '97', '', 'The tweet is not offensive', '0.9602', '', 'TRUE', '', '0', '615561236', 'golden', '', 'The tweet is not offensive', 'The tweet is not offensive', '', '1', '727463083', 'I play for keeps you play wit me its gon be yellow tape! #200']\n",
      "['853718254', 'TRUE', 'golden', '94', '', 'The tweet is not offensive', '0.5209', '', 'TRUE', '', '0', '615561241', 'golden', '', 'The tweet is not offensive', 'The tweet uses offensive language but not hate speech\\nThe tweet is not offensive', '', '1', '61463715', \"@LastProtestants @stomponato @delschilling You're an idiot.\"]\n",
      "['853718255', 'TRUE', 'golden', '96', '', 'The tweet is not offensive', '1', '', 'TRUE', '', '0', '615561245', 'golden', '', 'The tweet is not offensive', 'The tweet is not offensive', '', '1', '105723640', 'A mock up of my wedding photos http://t.co/qgPtAmfjPA']\n",
      "['853718256', 'TRUE', 'golden', '87', '', 'The tweet is not offensive', '1', '', 'TRUE', '', '0', '615561247', 'golden', '', 'The tweet is not offensive', 'The tweet is not offensive', '', '1', '823888934', '&#8220;@fhairhead: Only in Vermont is it big news that our govern got a buck #vermontproblems&#8221;']\n",
      "['853718257', 'TRUE', 'golden', '93', '', 'The tweet is not offensive', '1', '', 'TRUE', '', '0', '615561259', 'golden', '', 'The tweet is not offensive', 'The tweet uses offensive language but not hate speech\\nThe tweet is not offensive', '', '1', '1702441442', 'Sitting alone watching White Chicks, no pants, fuzzy blankets, tea || turn up']\n",
      "['853718258', 'TRUE', 'golden', '90', '', 'The tweet is not offensive', '1', '', 'TRUE', '', '0', '615561260', 'golden', '', 'The tweet is not offensive', 'The tweet is not offensive', '', '1', '1330165770', \"I want to go to a haunted house maybe get possesed y'know just to see if ghosts are real &#128561;&#128128;\"]\n",
      "['853718259', 'TRUE', 'golden', '92', '', 'The tweet is not offensive', '1', '', 'TRUE', '', '0', '615561270', 'golden', '', 'The tweet is not offensive', 'The tweet is not offensive', '', '1', '526955067', '$10 bucks the Browns get Johnny ! &#128527;&#128588;&#128175;']\n",
      "['853718260', 'TRUE', 'golden', '89', '', 'The tweet uses offensive language but not hate speech', '1', '', 'TRUE', '', '0', '615562149', 'golden', '', 'The tweet uses offensive language but not hate speech', 'The tweet uses offensive language but not hate speech', '', '1', '1420944386', 'I was with a bitch with a mustash for a year and a half? Wtf is wrong itch me']\n",
      "['853718261', 'TRUE', 'golden', '98', '', 'The tweet uses offensive language but not hate speech', '0.962', '', 'TRUE', '', '0', '615562150', 'golden', '', 'The tweet uses offensive language but not hate speech', 'The tweet contains hate speech\\nThe tweet uses offensive language but not hate speech', '', '1', '93231924', 'RT @skythedon: Huge ass, small waist &amp; okay face &amp; bitches really think they famous']\n",
      "['853718262', 'TRUE', 'golden', '92', '', 'The tweet uses offensive language but not hate speech', '0.9613', '', 'TRUE', '', '0', '615562151', 'golden', '', 'The tweet uses offensive language but not hate speech', 'The tweet uses offensive language but not hate speech', '', '1', '427712556', 'Bobby flay in this bitch']\n",
      "['853718263', 'TRUE', 'golden', '89', '', 'The tweet uses offensive language but not hate speech', '0.8018', '', 'TRUE', '', '0', '615562154', 'golden', '', 'The tweet uses offensive language but not hate speech', 'The tweet uses offensive language but not hate speech', '', '1', '433447525', \"I'm never gonna be ok with my nigga around alot of bitches while with his boys. Cause I was once that female your boys put you on !!\"]\n",
      "['853718264', 'TRUE', 'golden', '88', '', 'The tweet uses offensive language but not hate speech', '0.9618', '', 'TRUE', '', '0', '615562157', 'golden', '', 'The tweet uses offensive language but not hate speech', 'The tweet uses offensive language but not hate speech', '', '1', '481792090', 'Where the bad bitches at? Lol @Vbomb20']\n",
      "['853718265', 'TRUE', 'golden', '94', '', 'The tweet uses offensive language but not hate speech', '0.6837', '', 'TRUE', '', '0', '615562158', 'golden', '', 'The tweet uses offensive language but not hate speech', 'The tweet contains hate speech\\nThe tweet uses offensive language but not hate speech', '', '1', '716449315', \"RT @KayciMalynn: I just can't help but to hate you. Even though you never intentionally did anything to me you're still a cunt. #girllogic\"]\n",
      "['853718266', 'TRUE', 'golden', '93', '', 'The tweet uses offensive language but not hate speech', '0.9608', '', 'TRUE', '', '0', '615562159', 'golden', '', 'The tweet uses offensive language but not hate speech', 'The tweet uses offensive language but not hate speech\\nThe tweet is not offensive', '', '1', '343926738', \"RT @HBCUfessions: You females overlook us geeks. When I take these glasses off, I'm no longer Clark Kent. I go superman in that pussy. - FA&#8230;\"]\n",
      "['853718267', 'TRUE', 'golden', '89', '', 'The tweet uses offensive language but not hate speech', '0.8021', '', 'TRUE', '', '0', '615562161', 'golden', '', 'The tweet uses offensive language but not hate speech', 'The tweet uses offensive language but not hate speech\\nThe tweet is not offensive', '', '1', '375424417', 'RT @macktology101: \"Sunday funday\" hoe quotes']\n",
      "['853718268', 'TRUE', 'golden', '88', '', 'The tweet uses offensive language but not hate speech', '0.882', '', 'TRUE', '', '0', '615562162', 'golden', '', 'The tweet uses offensive language but not hate speech', 'The tweet uses offensive language but not hate speech', '', '1', '590353389', 'I know these bitches did not leave me, AGAIN. #FuckEverybody']\n",
      "['853718269', 'TRUE', 'golden', '91', '', 'The tweet uses offensive language but not hate speech', '0.9226', '', 'TRUE', '', '0', '615562163', 'golden', '', 'The tweet uses offensive language but not hate speech', 'The tweet uses offensive language but not hate speech\\nThe tweet is not offensive', '', '1', '25189083', 'RT @JoeBudden: Young, attractive, successful, supportive, faithful man w his own everything..u think bringing solely pussy to the table is &#8230;']\n"
     ]
    },
    {
     "ename": "UnicodeDecodeError",
     "evalue": "'utf-8' codec can't decode byte 0x89 in position 5123: invalid start byte",
     "output_type": "error",
     "traceback": [
      "\u001b[0;31m---------------------------------------------------------------------------\u001b[0m",
      "\u001b[0;31mUnicodeDecodeError\u001b[0m                        Traceback (most recent call last)",
      "\u001b[0;32m<ipython-input-93-da88d4182ada>\u001b[0m in \u001b[0;36m<module>\u001b[0;34m\u001b[0m\n\u001b[1;32m      3\u001b[0m     \u001b[0mline_count\u001b[0m \u001b[0;34m=\u001b[0m \u001b[0;36m0\u001b[0m\u001b[0;34m\u001b[0m\u001b[0m\n\u001b[1;32m      4\u001b[0m     \u001b[0mprint\u001b[0m\u001b[0;34m(\u001b[0m\u001b[0mcsv_reader\u001b[0m\u001b[0;34m)\u001b[0m\u001b[0;34m\u001b[0m\u001b[0m\n\u001b[0;32m----> 5\u001b[0;31m     \u001b[0;32mfor\u001b[0m \u001b[0mrow\u001b[0m \u001b[0;32min\u001b[0m \u001b[0mcsv_reader\u001b[0m\u001b[0;34m:\u001b[0m\u001b[0;34m\u001b[0m\u001b[0m\n\u001b[0m\u001b[1;32m      6\u001b[0m         \u001b[0mprint\u001b[0m\u001b[0;34m(\u001b[0m\u001b[0mrow\u001b[0m\u001b[0;34m)\u001b[0m\u001b[0;34m\u001b[0m\u001b[0m\n",
      "\u001b[0;32m/anaconda3/lib/python3.6/codecs.py\u001b[0m in \u001b[0;36mdecode\u001b[0;34m(self, input, final)\u001b[0m\n\u001b[1;32m    319\u001b[0m         \u001b[0;31m# decode input (taking the buffer into account)\u001b[0m\u001b[0;34m\u001b[0m\u001b[0;34m\u001b[0m\u001b[0m\n\u001b[1;32m    320\u001b[0m         \u001b[0mdata\u001b[0m \u001b[0;34m=\u001b[0m \u001b[0mself\u001b[0m\u001b[0;34m.\u001b[0m\u001b[0mbuffer\u001b[0m \u001b[0;34m+\u001b[0m \u001b[0minput\u001b[0m\u001b[0;34m\u001b[0m\u001b[0m\n\u001b[0;32m--> 321\u001b[0;31m         \u001b[0;34m(\u001b[0m\u001b[0mresult\u001b[0m\u001b[0;34m,\u001b[0m \u001b[0mconsumed\u001b[0m\u001b[0;34m)\u001b[0m \u001b[0;34m=\u001b[0m \u001b[0mself\u001b[0m\u001b[0;34m.\u001b[0m\u001b[0m_buffer_decode\u001b[0m\u001b[0;34m(\u001b[0m\u001b[0mdata\u001b[0m\u001b[0;34m,\u001b[0m \u001b[0mself\u001b[0m\u001b[0;34m.\u001b[0m\u001b[0merrors\u001b[0m\u001b[0;34m,\u001b[0m \u001b[0mfinal\u001b[0m\u001b[0;34m)\u001b[0m\u001b[0;34m\u001b[0m\u001b[0m\n\u001b[0m\u001b[1;32m    322\u001b[0m         \u001b[0;31m# keep undecoded input until the next call\u001b[0m\u001b[0;34m\u001b[0m\u001b[0;34m\u001b[0m\u001b[0m\n\u001b[1;32m    323\u001b[0m         \u001b[0mself\u001b[0m\u001b[0;34m.\u001b[0m\u001b[0mbuffer\u001b[0m \u001b[0;34m=\u001b[0m \u001b[0mdata\u001b[0m\u001b[0;34m[\u001b[0m\u001b[0mconsumed\u001b[0m\u001b[0;34m:\u001b[0m\u001b[0;34m]\u001b[0m\u001b[0;34m\u001b[0m\u001b[0m\n",
      "\u001b[0;31mUnicodeDecodeError\u001b[0m: 'utf-8' codec can't decode byte 0x89 in position 5123: invalid start byte"
     ]
    }
   ],
   "source": [
    "with open('twitter-hate-speech-classifier-DFE-a845520.csv', 'r') as twitter_data:\n",
    "    csv_reader = csv.reader(twitter_data, delimiter=',')\n",
    "    line_count = 0\n",
    "    print(csv_reader)\n",
    "    for row in csv_reader:\n",
    "        print(row)"
   ]
  },
  {
   "cell_type": "code",
   "execution_count": 75,
   "metadata": {},
   "outputs": [],
   "source": [
    "twitter_open = open('twitter-hate-speech-classifier-DFE-a845520.csv', 'r')"
   ]
  },
  {
   "cell_type": "code",
   "execution_count": 78,
   "metadata": {},
   "outputs": [
    {
     "ename": "SyntaxError",
     "evalue": "invalid syntax (<ipython-input-78-04237c89d8ee>, line 1)",
     "output_type": "error",
     "traceback": [
      "\u001b[0;36m  File \u001b[0;32m\"<ipython-input-78-04237c89d8ee>\"\u001b[0;36m, line \u001b[0;32m1\u001b[0m\n\u001b[0;31m    test = .read(twitter_open)\u001b[0m\n\u001b[0m           ^\u001b[0m\n\u001b[0;31mSyntaxError\u001b[0m\u001b[0;31m:\u001b[0m invalid syntax\n"
     ]
    }
   ],
   "source": [
    "test = .read(twitter_open)"
   ]
  },
  {
   "cell_type": "code",
   "execution_count": null,
   "metadata": {},
   "outputs": [],
   "source": []
  }
 ],
 "metadata": {
  "kernelspec": {
   "display_name": "Python 3",
   "language": "python",
   "name": "python3"
  },
  "language_info": {
   "codemirror_mode": {
    "name": "ipython",
    "version": 3
   },
   "file_extension": ".py",
   "mimetype": "text/x-python",
   "name": "python",
   "nbconvert_exporter": "python",
   "pygments_lexer": "ipython3",
   "version": "3.6.6"
  },
  "toc": {
   "base_numbering": 1,
   "nav_menu": {},
   "number_sections": true,
   "sideBar": true,
   "skip_h1_title": false,
   "title_cell": "Table of Contents",
   "title_sidebar": "Contents",
   "toc_cell": false,
   "toc_position": {},
   "toc_section_display": true,
   "toc_window_display": false
  },
  "varInspector": {
   "cols": {
    "lenName": 16,
    "lenType": 16,
    "lenVar": 40
   },
   "kernels_config": {
    "python": {
     "delete_cmd_postfix": "",
     "delete_cmd_prefix": "del ",
     "library": "var_list.py",
     "varRefreshCmd": "print(var_dic_list())"
    },
    "r": {
     "delete_cmd_postfix": ") ",
     "delete_cmd_prefix": "rm(",
     "library": "var_list.r",
     "varRefreshCmd": "cat(var_dic_list()) "
    }
   },
   "types_to_exclude": [
    "module",
    "function",
    "builtin_function_or_method",
    "instance",
    "_Feature"
   ],
   "window_display": false
  }
 },
 "nbformat": 4,
 "nbformat_minor": 2
}
